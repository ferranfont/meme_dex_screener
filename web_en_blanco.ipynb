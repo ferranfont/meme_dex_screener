{
 "cells": [
  {
   "cell_type": "code",
   "execution_count": 1,
   "id": "474aa092",
   "metadata": {},
   "outputs": [],
   "source": [
    "#!pip install Flask matplotlib"
   ]
  },
  {
   "cell_type": "code",
   "execution_count": 2,
   "id": "e56815b3",
   "metadata": {},
   "outputs": [
    {
     "name": "stdout",
     "output_type": "stream",
     "text": [
      " * Serving Flask app '__main__'\n",
      " * Debug mode: on\n"
     ]
    },
    {
     "name": "stderr",
     "output_type": "stream",
     "text": [
      "WARNING: This is a development server. Do not use it in a production deployment. Use a production WSGI server instead.\n",
      " * Running on http://127.0.0.1:5001\n",
      "Press CTRL+C to quit\n"
     ]
    }
   ],
   "source": [
    "from flask import Flask, send_from_directory\n",
    "import threading\n",
    "\n",
    "app = Flask(__name__)\n",
    "\n",
    "@app.route('/')\n",
    "def index():\n",
    "    # Aquí incluyes manualmente cada imagen y su nombre.\n",
    "    # Si quieres hacerlo dinámicamente (para todos los archivos en un directorio), necesitarás ajustar esta parte.\n",
    "    html_content = '''\n",
    "        <html>\n",
    "            <body>\n",
    "                <h1>Gráficos Disponibles</h1>\n",
    "                <div>\n",
    "                    <img src=\"/charts/2rpmnrrvgwnzme2prjtymc4s9qxqol3tp7kekzlgeaya.png\" alt=\"Gráfico 1\">\n",
    "                    <p>2rpmnrrvgwnzme2prjtymc4s9qxqol3tp7kekzlgeaya.png</p>\n",
    "                </div>\n",
    "                <div>\n",
    "                    <img src=\"/charts/2pgf7qbwwje1gfrpnqmqaesb4u4is4wff3lgx9bb7rko.png\" alt=\"Gráfico 2\">\n",
    "                    <p>2pgf7qbwwje1gfrpnqmqaesb4u4is4wff3lgx9bb7rko.png</p>\n",
    "                </div>\n",
    "            </body>\n",
    "        </html>\n",
    "    '''\n",
    "    return html_content\n",
    "\n",
    "@app.route('/charts/<filename>')\n",
    "def charts(filename):\n",
    "    return send_from_directory('charts', filename)\n",
    "\n",
    "def run_app():\n",
    "    app.run(debug=True, use_reloader=False, port=5001)\n",
    "\n",
    "# Ejecuta el servidor en un thread separado\n",
    "thread = threading.Thread(target=run_app)\n",
    "thread.start()\n",
    "\n",
    "\n",
    "\n",
    "#http://127.0.0.1:5001/charts/2rpmnrrvgwnzme2prjtymc4s9qxqol3tp7kekzlgeaya.png\n",
    "#http://127.0.0.1:5001/charts/2pgf7qbwwje1gfrpnqmqaesb4u4is4wff3lgx9bb7rko.png"
   ]
  },
  {
   "cell_type": "code",
   "execution_count": null,
   "id": "889f41a1",
   "metadata": {},
   "outputs": [],
   "source": [
    "\n"
   ]
  },
  {
   "cell_type": "code",
   "execution_count": null,
   "id": "f9aa0105",
   "metadata": {},
   "outputs": [],
   "source": []
  }
 ],
 "metadata": {
  "kernelspec": {
   "display_name": "Python 3 (ipykernel)",
   "language": "python",
   "name": "python3"
  },
  "language_info": {
   "codemirror_mode": {
    "name": "ipython",
    "version": 3
   },
   "file_extension": ".py",
   "mimetype": "text/x-python",
   "name": "python",
   "nbconvert_exporter": "python",
   "pygments_lexer": "ipython3",
   "version": "3.10.9"
  }
 },
 "nbformat": 4,
 "nbformat_minor": 5
}
