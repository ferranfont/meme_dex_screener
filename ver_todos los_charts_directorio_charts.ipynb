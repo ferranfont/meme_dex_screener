{
 "cells": [
  {
   "cell_type": "code",
   "execution_count": 1,
   "id": "2d5b19cb",
   "metadata": {},
   "outputs": [
    {
     "name": "stdout",
     "output_type": "stream",
     "text": [
      " * Serving Flask app '__main__'\n",
      " * Debug mode: on\n"
     ]
    }
   ],
   "source": [
    "from flask import Flask, send_from_directory\n",
    "import threading\n",
    "import os\n",
    "\n",
    "app = Flask(__name__)\n",
    "\n",
    "@app.route('/')\n",
    "def index():\n",
    "    # Define el directorio de los gráficos\n",
    "    charts_dir = 'charts'\n",
    "    # Lista todos los archivos en el directorio de gráficos\n",
    "    files = os.listdir(charts_dir)\n",
    "    # Filtra los archivos para obtener solo los PNG\n",
    "    png_files = [f for f in files if f.endswith('.png')]\n",
    "    \n",
    "    # Construye las etiquetas de imagen HTML para cada archivo PNG\n",
    "    images_html = ''.join(f'<div><img src=\"/charts/{file}\" alt=\"{file}\"><p>{file}</p></div>' \n",
    "                          for file in png_files)\n",
    "    \n",
    "    # Construye y devuelve el HTML final\n",
    "    return f'''\n",
    "        <html>\n",
    "            <body>\n",
    "                <h1>Gráficos Disponibles</h1>\n",
    "                {images_html}\n",
    "            </body>\n",
    "        </html>\n",
    "    '''\n",
    "\n",
    "@app.route('/charts/<filename>')\n",
    "def charts(filename):\n",
    "    return send_from_directory('charts', filename)\n",
    "\n",
    "def run_app():\n",
    "    app.run(debug=True, use_reloader=False, port=5001)\n",
    "\n",
    "# Ejecuta el servidor en un thread separado\n",
    "thread = threading.Thread(target=run_app)\n",
    "thread.start()\n"
   ]
  },
  {
   "cell_type": "code",
   "execution_count": 2,
   "id": "faa75f07",
   "metadata": {},
   "outputs": [
    {
     "name": "stdout",
     "output_type": "stream",
     "text": [
      "fide\n"
     ]
    },
    {
     "name": "stderr",
     "output_type": "stream",
     "text": [
      "WARNING: This is a development server. Do not use it in a production deployment. Use a production WSGI server instead.\n",
      " * Running on http://127.0.0.1:5001\n",
      "Press CTRL+C to quit\n"
     ]
    }
   ],
   "source": [
    "print ('fide')"
   ]
  }
 ],
 "metadata": {
  "kernelspec": {
   "display_name": "Python 3 (ipykernel)",
   "language": "python",
   "name": "python3"
  },
  "language_info": {
   "codemirror_mode": {
    "name": "ipython",
    "version": 3
   },
   "file_extension": ".py",
   "mimetype": "text/x-python",
   "name": "python",
   "nbconvert_exporter": "python",
   "pygments_lexer": "ipython3",
   "version": "3.10.9"
  }
 },
 "nbformat": 4,
 "nbformat_minor": 5
}
